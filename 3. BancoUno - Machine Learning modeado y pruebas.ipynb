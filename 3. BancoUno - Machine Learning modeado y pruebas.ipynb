{
 "cells": [
  {
   "cell_type": "markdown",
   "id": "5047a719",
   "metadata": {},
   "source": [
    "<img src=\"credits3.png\" style=\"width:95%;\">"
   ]
  },
  {
   "cell_type": "markdown",
   "id": "61192441",
   "metadata": {},
   "source": [
    "<h1 style=\"color:#0e535b; text-align: left\">BancoUno - Machine Learning modeado y pruebas</h1>\n",
    "\n",
    "<p style=\"text-align:justify\">En este notebook se realizarán labores de modelado y testeo de Machine Learning del caso cuyo propósito final será intentar predecir la probabilidad de cumplimiento de pago de los clientes que tienen un crédito en el Banco Uno.</p>\n"
   ]
  },
  {
   "cell_type": "markdown",
   "id": "2bf99463",
   "metadata": {},
   "source": [
    "<h3 style=\"color:#0e535b; text-align: left\">1. Preparando los datos para Machine Learning</h3>"
   ]
  },
  {
   "cell_type": "markdown",
   "id": "2d76a981",
   "metadata": {},
   "source": [
    "<h4 style=\"color:#0e535b; text-align: left\">1.1 Carga de Liberías y DataFrame</h4>\n",
    "\n",
    "<p style=\"text-align:justify\">Se utilizarán librerías que permiten analizar los datos (Pandas y Numpy) y generar informe graficos y visualización de los datos así como para Análisis de Componentes Principales.</p>"
   ]
  },
  {
   "cell_type": "code",
   "execution_count": 1,
   "id": "c52becd6",
   "metadata": {},
   "outputs": [],
   "source": [
    "import pandas as pd\n",
    "import numpy as np\n",
    "import matplotlib.pyplot as plt \n",
    "import matplotlib as mpl\n",
    "from numpy import set_printoptions\n",
    "from sklearn.preprocessing import StandardScaler\n",
    "from sklearn.decomposition import PCA\n",
    "from sklearn.preprocessing import MinMaxScaler\n",
    "from sklearn.preprocessing import LabelEncoder\n",
    "encoder=LabelEncoder()"
   ]
  },
  {
   "cell_type": "code",
   "execution_count": 2,
   "id": "b842c0d6",
   "metadata": {
    "scrolled": true
   },
   "outputs": [
    {
     "data": {
      "text/html": [
       "<div>\n",
       "<style scoped>\n",
       "    .dataframe tbody tr th:only-of-type {\n",
       "        vertical-align: middle;\n",
       "    }\n",
       "\n",
       "    .dataframe tbody tr th {\n",
       "        vertical-align: top;\n",
       "    }\n",
       "\n",
       "    .dataframe thead th {\n",
       "        text-align: right;\n",
       "    }\n",
       "</style>\n",
       "<table border=\"1\" class=\"dataframe\">\n",
       "  <thead>\n",
       "    <tr style=\"text-align: right;\">\n",
       "      <th></th>\n",
       "      <th>LIMIT_BAL</th>\n",
       "      <th>SEX</th>\n",
       "      <th>EDUCATION</th>\n",
       "      <th>MARRIAGE</th>\n",
       "      <th>AGE</th>\n",
       "      <th>PAY_0</th>\n",
       "      <th>PAY_2</th>\n",
       "      <th>PAY_3</th>\n",
       "      <th>PAY_4</th>\n",
       "      <th>PAY_5</th>\n",
       "      <th>...</th>\n",
       "      <th>BILL_AMT4</th>\n",
       "      <th>BILL_AMT5</th>\n",
       "      <th>BILL_AMT6</th>\n",
       "      <th>PAY_AMT1</th>\n",
       "      <th>PAY_AMT2</th>\n",
       "      <th>PAY_AMT3</th>\n",
       "      <th>PAY_AMT4</th>\n",
       "      <th>PAY_AMT5</th>\n",
       "      <th>PAY_AMT6</th>\n",
       "      <th>default payment next month (Y)</th>\n",
       "    </tr>\n",
       "  </thead>\n",
       "  <tbody>\n",
       "    <tr>\n",
       "      <th>0</th>\n",
       "      <td>20000</td>\n",
       "      <td>female</td>\n",
       "      <td>university</td>\n",
       "      <td>1</td>\n",
       "      <td>24</td>\n",
       "      <td>2</td>\n",
       "      <td>2</td>\n",
       "      <td>-1</td>\n",
       "      <td>-1</td>\n",
       "      <td>-2</td>\n",
       "      <td>...</td>\n",
       "      <td>0</td>\n",
       "      <td>0</td>\n",
       "      <td>0</td>\n",
       "      <td>0</td>\n",
       "      <td>689</td>\n",
       "      <td>0</td>\n",
       "      <td>0</td>\n",
       "      <td>0</td>\n",
       "      <td>0</td>\n",
       "      <td>default</td>\n",
       "    </tr>\n",
       "    <tr>\n",
       "      <th>1</th>\n",
       "      <td>120000</td>\n",
       "      <td>female</td>\n",
       "      <td>university</td>\n",
       "      <td>2</td>\n",
       "      <td>26</td>\n",
       "      <td>-1</td>\n",
       "      <td>2</td>\n",
       "      <td>0</td>\n",
       "      <td>0</td>\n",
       "      <td>0</td>\n",
       "      <td>...</td>\n",
       "      <td>3272</td>\n",
       "      <td>3455</td>\n",
       "      <td>3261</td>\n",
       "      <td>0</td>\n",
       "      <td>1000</td>\n",
       "      <td>1000</td>\n",
       "      <td>1000</td>\n",
       "      <td>0</td>\n",
       "      <td>2000</td>\n",
       "      <td>default</td>\n",
       "    </tr>\n",
       "    <tr>\n",
       "      <th>2</th>\n",
       "      <td>90000</td>\n",
       "      <td>female</td>\n",
       "      <td>university</td>\n",
       "      <td>2</td>\n",
       "      <td>34</td>\n",
       "      <td>0</td>\n",
       "      <td>0</td>\n",
       "      <td>0</td>\n",
       "      <td>0</td>\n",
       "      <td>0</td>\n",
       "      <td>...</td>\n",
       "      <td>14331</td>\n",
       "      <td>14948</td>\n",
       "      <td>15549</td>\n",
       "      <td>1518</td>\n",
       "      <td>1500</td>\n",
       "      <td>1000</td>\n",
       "      <td>1000</td>\n",
       "      <td>1000</td>\n",
       "      <td>5000</td>\n",
       "      <td>not default</td>\n",
       "    </tr>\n",
       "    <tr>\n",
       "      <th>3</th>\n",
       "      <td>50000</td>\n",
       "      <td>female</td>\n",
       "      <td>university</td>\n",
       "      <td>1</td>\n",
       "      <td>37</td>\n",
       "      <td>0</td>\n",
       "      <td>0</td>\n",
       "      <td>0</td>\n",
       "      <td>0</td>\n",
       "      <td>0</td>\n",
       "      <td>...</td>\n",
       "      <td>28314</td>\n",
       "      <td>28959</td>\n",
       "      <td>29547</td>\n",
       "      <td>2000</td>\n",
       "      <td>2019</td>\n",
       "      <td>1200</td>\n",
       "      <td>1100</td>\n",
       "      <td>1069</td>\n",
       "      <td>1000</td>\n",
       "      <td>not default</td>\n",
       "    </tr>\n",
       "    <tr>\n",
       "      <th>4</th>\n",
       "      <td>50000</td>\n",
       "      <td>male</td>\n",
       "      <td>university</td>\n",
       "      <td>1</td>\n",
       "      <td>57</td>\n",
       "      <td>-1</td>\n",
       "      <td>0</td>\n",
       "      <td>-1</td>\n",
       "      <td>0</td>\n",
       "      <td>0</td>\n",
       "      <td>...</td>\n",
       "      <td>20940</td>\n",
       "      <td>19146</td>\n",
       "      <td>19131</td>\n",
       "      <td>2000</td>\n",
       "      <td>36681</td>\n",
       "      <td>10000</td>\n",
       "      <td>9000</td>\n",
       "      <td>689</td>\n",
       "      <td>679</td>\n",
       "      <td>not default</td>\n",
       "    </tr>\n",
       "  </tbody>\n",
       "</table>\n",
       "<p>5 rows × 24 columns</p>\n",
       "</div>"
      ],
      "text/plain": [
       "   LIMIT_BAL     SEX   EDUCATION  MARRIAGE  AGE  PAY_0  PAY_2  PAY_3  PAY_4  \\\n",
       "0      20000  female  university         1   24      2      2     -1     -1   \n",
       "1     120000  female  university         2   26     -1      2      0      0   \n",
       "2      90000  female  university         2   34      0      0      0      0   \n",
       "3      50000  female  university         1   37      0      0      0      0   \n",
       "4      50000    male  university         1   57     -1      0     -1      0   \n",
       "\n",
       "   PAY_5  ...  BILL_AMT4  BILL_AMT5  BILL_AMT6  PAY_AMT1  PAY_AMT2  PAY_AMT3  \\\n",
       "0     -2  ...          0          0          0         0       689         0   \n",
       "1      0  ...       3272       3455       3261         0      1000      1000   \n",
       "2      0  ...      14331      14948      15549      1518      1500      1000   \n",
       "3      0  ...      28314      28959      29547      2000      2019      1200   \n",
       "4      0  ...      20940      19146      19131      2000     36681     10000   \n",
       "\n",
       "   PAY_AMT4  PAY_AMT5  PAY_AMT6  default payment next month (Y)  \n",
       "0         0         0         0                         default  \n",
       "1      1000         0      2000                         default  \n",
       "2      1000      1000      5000                     not default  \n",
       "3      1100      1069      1000                     not default  \n",
       "4      9000       689       679                     not default  \n",
       "\n",
       "[5 rows x 24 columns]"
      ]
     },
     "execution_count": 2,
     "metadata": {},
     "output_type": "execute_result"
    }
   ],
   "source": [
    "credit = pd.read_excel(\"credit.xlsx\")\n",
    "credit.drop(['Unnamed: 0'], axis=1,inplace=True)\n",
    "credit.head(5)"
   ]
  },
  {
   "cell_type": "markdown",
   "id": "29f0c91e",
   "metadata": {},
   "source": [
    "<h4 style=\"color:#0e535b; text-align: left\">1.2 Codificación de los datos</h4>\n",
    "\n",
    "<p style=\"text-align:justify\">La variable Y, en este caso corresponde a la probabilidad de cumplimiento de pago está definida como una variable categórica discreta de la siguiente forma:</p>\n",
    "<ul>\n",
    "    <li>Not Default</li>\n",
    "    <li>Default</li>\n",
    "</ul>\n",
    "\n",
    "<p style=\"text-align:justify\">La variable SEX corresponde a una variable categórica discreta de la siguiente forma:</p>\n",
    "<ul>\n",
    "    <li>female = 0</li>\n",
    "    <li>male = 1</li>\n",
    "</ul>\n",
    "\n",
    "<p style=\"text-align:justify\">La variable EDUCATION corresponde a una variable categórica discreta de la siguiente forma:</p>\n",
    "<ul>\n",
    "    <li>graduate school = 0</li>\n",
    "    <li>high school = 1</li>\n",
    "    <li>other = 2</li>\n",
    "    <li>university = 3</li>\n",
    "</ul>\n",
    "\n",
    "<p style=\"text-align:justify\">Ambas variables independientes se consideran de impacto para el modelo, por lo que se procederá a codificarlas de forma numérica:</p>"
   ]
  },
  {
   "cell_type": "code",
   "execution_count": 3,
   "id": "00f4e39d",
   "metadata": {
    "scrolled": false
   },
   "outputs": [
    {
     "data": {
      "text/html": [
       "<div>\n",
       "<style scoped>\n",
       "    .dataframe tbody tr th:only-of-type {\n",
       "        vertical-align: middle;\n",
       "    }\n",
       "\n",
       "    .dataframe tbody tr th {\n",
       "        vertical-align: top;\n",
       "    }\n",
       "\n",
       "    .dataframe thead th {\n",
       "        text-align: right;\n",
       "    }\n",
       "</style>\n",
       "<table border=\"1\" class=\"dataframe\">\n",
       "  <thead>\n",
       "    <tr style=\"text-align: right;\">\n",
       "      <th></th>\n",
       "      <th>LIMIT_BAL</th>\n",
       "      <th>SEX</th>\n",
       "      <th>EDUCATION</th>\n",
       "      <th>MARRIAGE</th>\n",
       "      <th>AGE</th>\n",
       "      <th>PAY_0</th>\n",
       "      <th>PAY_2</th>\n",
       "      <th>PAY_3</th>\n",
       "      <th>PAY_4</th>\n",
       "      <th>PAY_5</th>\n",
       "      <th>...</th>\n",
       "      <th>BILL_AMT4</th>\n",
       "      <th>BILL_AMT5</th>\n",
       "      <th>BILL_AMT6</th>\n",
       "      <th>PAY_AMT1</th>\n",
       "      <th>PAY_AMT2</th>\n",
       "      <th>PAY_AMT3</th>\n",
       "      <th>PAY_AMT4</th>\n",
       "      <th>PAY_AMT5</th>\n",
       "      <th>PAY_AMT6</th>\n",
       "      <th>default payment next month (Y)</th>\n",
       "    </tr>\n",
       "  </thead>\n",
       "  <tbody>\n",
       "    <tr>\n",
       "      <th>0</th>\n",
       "      <td>20000</td>\n",
       "      <td>0</td>\n",
       "      <td>3</td>\n",
       "      <td>1</td>\n",
       "      <td>24</td>\n",
       "      <td>2</td>\n",
       "      <td>2</td>\n",
       "      <td>-1</td>\n",
       "      <td>-1</td>\n",
       "      <td>-2</td>\n",
       "      <td>...</td>\n",
       "      <td>0</td>\n",
       "      <td>0</td>\n",
       "      <td>0</td>\n",
       "      <td>0</td>\n",
       "      <td>689</td>\n",
       "      <td>0</td>\n",
       "      <td>0</td>\n",
       "      <td>0</td>\n",
       "      <td>0</td>\n",
       "      <td>default</td>\n",
       "    </tr>\n",
       "    <tr>\n",
       "      <th>1</th>\n",
       "      <td>120000</td>\n",
       "      <td>0</td>\n",
       "      <td>3</td>\n",
       "      <td>2</td>\n",
       "      <td>26</td>\n",
       "      <td>-1</td>\n",
       "      <td>2</td>\n",
       "      <td>0</td>\n",
       "      <td>0</td>\n",
       "      <td>0</td>\n",
       "      <td>...</td>\n",
       "      <td>3272</td>\n",
       "      <td>3455</td>\n",
       "      <td>3261</td>\n",
       "      <td>0</td>\n",
       "      <td>1000</td>\n",
       "      <td>1000</td>\n",
       "      <td>1000</td>\n",
       "      <td>0</td>\n",
       "      <td>2000</td>\n",
       "      <td>default</td>\n",
       "    </tr>\n",
       "    <tr>\n",
       "      <th>2</th>\n",
       "      <td>90000</td>\n",
       "      <td>0</td>\n",
       "      <td>3</td>\n",
       "      <td>2</td>\n",
       "      <td>34</td>\n",
       "      <td>0</td>\n",
       "      <td>0</td>\n",
       "      <td>0</td>\n",
       "      <td>0</td>\n",
       "      <td>0</td>\n",
       "      <td>...</td>\n",
       "      <td>14331</td>\n",
       "      <td>14948</td>\n",
       "      <td>15549</td>\n",
       "      <td>1518</td>\n",
       "      <td>1500</td>\n",
       "      <td>1000</td>\n",
       "      <td>1000</td>\n",
       "      <td>1000</td>\n",
       "      <td>5000</td>\n",
       "      <td>not default</td>\n",
       "    </tr>\n",
       "    <tr>\n",
       "      <th>3</th>\n",
       "      <td>50000</td>\n",
       "      <td>0</td>\n",
       "      <td>3</td>\n",
       "      <td>1</td>\n",
       "      <td>37</td>\n",
       "      <td>0</td>\n",
       "      <td>0</td>\n",
       "      <td>0</td>\n",
       "      <td>0</td>\n",
       "      <td>0</td>\n",
       "      <td>...</td>\n",
       "      <td>28314</td>\n",
       "      <td>28959</td>\n",
       "      <td>29547</td>\n",
       "      <td>2000</td>\n",
       "      <td>2019</td>\n",
       "      <td>1200</td>\n",
       "      <td>1100</td>\n",
       "      <td>1069</td>\n",
       "      <td>1000</td>\n",
       "      <td>not default</td>\n",
       "    </tr>\n",
       "    <tr>\n",
       "      <th>4</th>\n",
       "      <td>50000</td>\n",
       "      <td>1</td>\n",
       "      <td>3</td>\n",
       "      <td>1</td>\n",
       "      <td>57</td>\n",
       "      <td>-1</td>\n",
       "      <td>0</td>\n",
       "      <td>-1</td>\n",
       "      <td>0</td>\n",
       "      <td>0</td>\n",
       "      <td>...</td>\n",
       "      <td>20940</td>\n",
       "      <td>19146</td>\n",
       "      <td>19131</td>\n",
       "      <td>2000</td>\n",
       "      <td>36681</td>\n",
       "      <td>10000</td>\n",
       "      <td>9000</td>\n",
       "      <td>689</td>\n",
       "      <td>679</td>\n",
       "      <td>not default</td>\n",
       "    </tr>\n",
       "  </tbody>\n",
       "</table>\n",
       "<p>5 rows × 24 columns</p>\n",
       "</div>"
      ],
      "text/plain": [
       "   LIMIT_BAL  SEX  EDUCATION  MARRIAGE  AGE  PAY_0  PAY_2  PAY_3  PAY_4  \\\n",
       "0      20000    0          3         1   24      2      2     -1     -1   \n",
       "1     120000    0          3         2   26     -1      2      0      0   \n",
       "2      90000    0          3         2   34      0      0      0      0   \n",
       "3      50000    0          3         1   37      0      0      0      0   \n",
       "4      50000    1          3         1   57     -1      0     -1      0   \n",
       "\n",
       "   PAY_5  ...  BILL_AMT4  BILL_AMT5  BILL_AMT6  PAY_AMT1  PAY_AMT2  PAY_AMT3  \\\n",
       "0     -2  ...          0          0          0         0       689         0   \n",
       "1      0  ...       3272       3455       3261         0      1000      1000   \n",
       "2      0  ...      14331      14948      15549      1518      1500      1000   \n",
       "3      0  ...      28314      28959      29547      2000      2019      1200   \n",
       "4      0  ...      20940      19146      19131      2000     36681     10000   \n",
       "\n",
       "   PAY_AMT4  PAY_AMT5  PAY_AMT6  default payment next month (Y)  \n",
       "0         0         0         0                         default  \n",
       "1      1000         0      2000                         default  \n",
       "2      1000      1000      5000                     not default  \n",
       "3      1100      1069      1000                     not default  \n",
       "4      9000       689       679                     not default  \n",
       "\n",
       "[5 rows x 24 columns]"
      ]
     },
     "execution_count": 3,
     "metadata": {},
     "output_type": "execute_result"
    }
   ],
   "source": [
    "credit[\"SEX\"]=encoder.fit_transform(credit.SEX.values)\n",
    "credit[\"EDUCATION\"]=encoder.fit_transform(credit.EDUCATION.values)\n",
    "credit.head(5)"
   ]
  },
  {
   "cell_type": "markdown",
   "id": "3c076184",
   "metadata": {},
   "source": [
    "<h4 style=\"color:#0e535b; text-align: left\">1.3 Transformación de los datos</h4>\n",
    "\n",
    "<p style=\"text-align:justify\">La transformación de los datos para su utilización en la selección de componentes implica delimitar las variables independientes que se van a analizar (X) y la variable objetivo (Y):</p>\n",
    "<p style=\"text-align:justify\" >*Para incluir la variable de sexo convertida solo se agregará 'SEX_female' ya que está muy correlacionada con 'SEX_male'.</p>\n"
   ]
  },
  {
   "cell_type": "code",
   "execution_count": 4,
   "id": "babbe9f2",
   "metadata": {},
   "outputs": [],
   "source": [
    "variablesInd = ['LIMIT_BAL', 'SEX', 'EDUCATION', 'AGE', 'PAY_0', 'PAY_2','PAY_3', 'PAY_4', 'PAY_5', 'PAY_6', 'BILL_AMT1', 'BILL_AMT2',\n",
    "             'BILL_AMT3', 'BILL_AMT4', 'BILL_AMT5', 'BILL_AMT6', 'PAY_AMT1','PAY_AMT2', 'PAY_AMT3', 'PAY_AMT4',\n",
    "            'PAY_AMT5', 'PAY_AMT6']\n",
    "X = credit.loc[:, variablesInd].values\n",
    "Y = credit.loc[:,['default payment next month (Y)']].values"
   ]
  },
  {
   "cell_type": "markdown",
   "id": "75c2a3c1",
   "metadata": {},
   "source": [
    "<h4 style=\"color:#0e535b; text-align: left\">1.4 Reescalado de los datos</h4>\n",
    "\n",
    "<p style=\"text-align:justify\">En el DataFrame se observa que las variables tienen atributos muy diferentes, es por esto que se procederá a realizar un reescalado de las variables para obtener nuevos valores entre 0 y 1:</p>"
   ]
  },
  {
   "cell_type": "code",
   "execution_count": 5,
   "id": "9c478531",
   "metadata": {
    "scrolled": true
   },
   "outputs": [
    {
     "name": "stdout",
     "output_type": "stream",
     "text": [
      "[[0.01  0.    1.    0.056 0.4   0.444 0.111 0.111 0.    0.    0.019 0.028\n",
      "  0.019 0.009 0.03  0.261 0.    0.002 0.    0.    0.    0.   ]\n",
      " [0.111 0.    1.    0.093 0.1   0.444 0.222 0.222 0.222 0.4   0.017 0.026\n",
      "  0.022 0.012 0.033 0.263 0.    0.004 0.001 0.005 0.    0.004]\n",
      " [0.081 0.    1.    0.241 0.2   0.222 0.222 0.222 0.222 0.2   0.045 0.038\n",
      "  0.042 0.025 0.045 0.273 0.006 0.005 0.001 0.005 0.003 0.009]\n",
      " [0.04  0.    1.    0.296 0.2   0.222 0.222 0.222 0.222 0.2   0.063 0.072\n",
      "  0.106 0.04  0.06  0.284 0.008 0.007 0.001 0.005 0.003 0.002]\n",
      " [0.04  1.    1.    0.667 0.1   0.222 0.111 0.222 0.222 0.2   0.023 0.03\n",
      "  0.082 0.032 0.05  0.276 0.008 0.129 0.011 0.044 0.002 0.001]]\n"
     ]
    }
   ],
   "source": [
    "scaler = MinMaxScaler(feature_range=(0, 1))\n",
    "reescaladoX = MinMaxScaler().fit_transform(X)\n",
    "set_printoptions(precision=3)\n",
    "print(reescaladoX[0:5,:])"
   ]
  },
  {
   "cell_type": "markdown",
   "id": "2f64cc21",
   "metadata": {},
   "source": [
    "<h3 style=\"color:#0e535b; text-align: left\">2. Selección de características</h3>"
   ]
  },
  {
   "cell_type": "markdown",
   "id": "2be8be1e",
   "metadata": {},
   "source": [
    "<h4 style=\"color:#0e535b; text-align: left\">2.1 Análisis de componentes principales PCA</h4>\n",
    "\n",
    "<p style=\"text-align:justify\">Para el caso actual se aplicará PCA. Se procederá a correr el PCA con las variables reescaladas para obtener tres componentes principales.</p>"
   ]
  },
  {
   "cell_type": "code",
   "execution_count": 6,
   "id": "5aeaa303",
   "metadata": {},
   "outputs": [
    {
     "name": "stdout",
     "output_type": "stream",
     "text": [
      "Varianzas Explicadas: [0.377 0.324]\n",
      "[[ 9.934e-03  9.573e-01 -2.841e-01  4.765e-02  1.231e-03  4.902e-03\n",
      "   4.374e-03  1.306e-03  4.646e-03  2.833e-03  9.505e-03  7.461e-03\n",
      "   1.222e-02  7.783e-03  6.152e-03  4.957e-03 -2.496e-05  1.636e-03\n",
      "   4.906e-04  1.434e-03  4.752e-03  1.969e-03]\n",
      " [-5.500e-02  2.795e-01  9.461e-01  3.102e-03  4.619e-02  7.867e-02\n",
      "   7.011e-02  6.411e-02  5.613e-02  5.212e-02  1.005e-02  8.530e-03\n",
      "   1.403e-02  7.215e-03  6.883e-03  5.103e-03 -5.987e-03 -6.402e-03\n",
      "  -1.900e-03 -2.845e-04 -3.143e-03 -9.484e-04]]\n"
     ]
    }
   ],
   "source": [
    "# extracción de componentes\n",
    "pca = PCA(n_components=2)\n",
    "fit = pca.fit(reescaladoX)\n",
    "\n",
    "# summarize components\n",
    "print(f\"Varianzas Explicadas: {fit.explained_variance_ratio_}\")\n",
    "print(fit.components_)"
   ]
  },
  {
   "cell_type": "markdown",
   "id": "57814ce1",
   "metadata": {},
   "source": [
    "<h4 style=\"color:#0e535b; text-align: left\">2.2 Definición del DataFrame final</h4>\n",
    "\n",
    "<p style=\"text-align:justify\">El DataFrame final toma como nuevas variables independientes los componentes principales y los une a la variable independiente Y que se viene manejando en el proyecto.</p>"
   ]
  },
  {
   "cell_type": "code",
   "execution_count": 7,
   "id": "3118a7cc",
   "metadata": {},
   "outputs": [],
   "source": [
    "componentesPrincipales = pca.fit_transform(reescaladoX)\n",
    "dataFrame_final = pd.DataFrame(data = componentesPrincipales, columns = ['pc_1', 'pc_2'])"
   ]
  },
  {
   "cell_type": "code",
   "execution_count": 8,
   "id": "4af305af",
   "metadata": {},
   "outputs": [],
   "source": [
    "objetivo = pd.DataFrame(data = Y, columns = ['Y'])"
   ]
  },
  {
   "cell_type": "code",
   "execution_count": 9,
   "id": "d93ba9aa",
   "metadata": {},
   "outputs": [
    {
     "data": {
      "text/html": [
       "<div>\n",
       "<style scoped>\n",
       "    .dataframe tbody tr th:only-of-type {\n",
       "        vertical-align: middle;\n",
       "    }\n",
       "\n",
       "    .dataframe tbody tr th {\n",
       "        vertical-align: top;\n",
       "    }\n",
       "\n",
       "    .dataframe thead th {\n",
       "        text-align: right;\n",
       "    }\n",
       "</style>\n",
       "<table border=\"1\" class=\"dataframe\">\n",
       "  <thead>\n",
       "    <tr style=\"text-align: right;\">\n",
       "      <th></th>\n",
       "      <th>pc_1</th>\n",
       "      <th>pc_2</th>\n",
       "      <th>Y</th>\n",
       "    </tr>\n",
       "  </thead>\n",
       "  <tbody>\n",
       "    <tr>\n",
       "      <th>0</th>\n",
       "      <td>-0.558551</td>\n",
       "      <td>0.347564</td>\n",
       "      <td>default</td>\n",
       "    </tr>\n",
       "    <tr>\n",
       "      <th>1</th>\n",
       "      <td>-0.553254</td>\n",
       "      <td>0.376573</td>\n",
       "      <td>default</td>\n",
       "    </tr>\n",
       "    <tr>\n",
       "      <th>2</th>\n",
       "      <td>-0.547196</td>\n",
       "      <td>0.356219</td>\n",
       "      <td>not default</td>\n",
       "    </tr>\n",
       "    <tr>\n",
       "      <th>3</th>\n",
       "      <td>-0.543487</td>\n",
       "      <td>0.360233</td>\n",
       "      <td>not default</td>\n",
       "    </tr>\n",
       "    <tr>\n",
       "      <th>4</th>\n",
       "      <td>0.429936</td>\n",
       "      <td>0.626369</td>\n",
       "      <td>not default</td>\n",
       "    </tr>\n",
       "    <tr>\n",
       "      <th>5</th>\n",
       "      <td>0.698144</td>\n",
       "      <td>-0.306102</td>\n",
       "      <td>not default</td>\n",
       "    </tr>\n",
       "    <tr>\n",
       "      <th>6</th>\n",
       "      <td>0.719501</td>\n",
       "      <td>-0.308808</td>\n",
       "      <td>not default</td>\n",
       "    </tr>\n",
       "    <tr>\n",
       "      <th>7</th>\n",
       "      <td>-0.558958</td>\n",
       "      <td>0.332439</td>\n",
       "      <td>not default</td>\n",
       "    </tr>\n",
       "    <tr>\n",
       "      <th>8</th>\n",
       "      <td>-0.361922</td>\n",
       "      <td>-0.262352</td>\n",
       "      <td>not default</td>\n",
       "    </tr>\n",
       "    <tr>\n",
       "      <th>9</th>\n",
       "      <td>0.595505</td>\n",
       "      <td>-0.059917</td>\n",
       "      <td>not default</td>\n",
       "    </tr>\n",
       "  </tbody>\n",
       "</table>\n",
       "</div>"
      ],
      "text/plain": [
       "       pc_1      pc_2            Y\n",
       "0 -0.558551  0.347564      default\n",
       "1 -0.553254  0.376573      default\n",
       "2 -0.547196  0.356219  not default\n",
       "3 -0.543487  0.360233  not default\n",
       "4  0.429936  0.626369  not default\n",
       "5  0.698144 -0.306102  not default\n",
       "6  0.719501 -0.308808  not default\n",
       "7 -0.558958  0.332439  not default\n",
       "8 -0.361922 -0.262352  not default\n",
       "9  0.595505 -0.059917  not default"
      ]
     },
     "execution_count": 9,
     "metadata": {},
     "output_type": "execute_result"
    }
   ],
   "source": [
    "dataFrame_final = pd.concat([dataFrame_final, objetivo], axis = 1)\n",
    "\n",
    "dataFrame_final.head(10)"
   ]
  },
  {
   "cell_type": "code",
   "execution_count": 10,
   "id": "d1170235",
   "metadata": {},
   "outputs": [
    {
     "data": {
      "image/png": "[encoded data removed]",
      "text/plain": [
       "<Figure size 800x800 with 1 Axes>"
      ]
     },
     "metadata": {},
     "output_type": "display_data"
    }
   ],
   "source": [
    "fig = plt.figure(figsize = (8,8))\n",
    "ax = fig.add_subplot(1,1,1) \n",
    "\n",
    "ax.set_xlabel('pc_1', fontsize = 10)\n",
    "ax.set_ylabel('pc_2', fontsize = 10)\n",
    "ax.set_title('Gráfico 1. Reducción PCA (2 Componentes Principales)', fontsize = 14)\n",
    "\n",
    "targets = dataFrame_final[\"Y\"]\n",
    "colors = ['#F08080','#34495E']\n",
    "\n",
    "for target, color in zip(targets,colors):\n",
    "    indicesToKeep = dataFrame_final['Y'] == target\n",
    "    ax.scatter(dataFrame_final.loc[indicesToKeep, 'pc_1']\n",
    "               , dataFrame_final.loc[indicesToKeep, 'pc_2']\n",
    "               , c = color\n",
    "               , s = 40\n",
    "               ,alpha=0.40\n",
    "               ,edgecolors='none')\n",
    "ax.grid()"
   ]
  },
  {
   "cell_type": "markdown",
   "id": "f6130f88",
   "metadata": {},
   "source": [
    "<h3 style=\"color:#0e535b; text-align: left\">3. Selección de un modelo de Machine Learning</h3>"
   ]
  },
  {
   "cell_type": "markdown",
   "id": "29de1492",
   "metadata": {},
   "source": [
    "<h4 style=\"color:#0e535b; text-align: left\">3.1 Regresión Lineal Simple o Múltiple</h4>\n",
    "\n",
    "<p style=\"text-align:justify\">Para el caso en estudio no se recomienda la implementación de un modelo de regresión lineal simple o múltiple por varias razones:</p>\n",
    "<ul>\n",
    "    <li>No existe una relación lineal entre las variables independiente y la variable independiente.</li>\n",
    "    <li>Los modelos de regresión lineales son sensibles a los valores atípicos, y pueden brindar datos inexactos.</li>\n",
    "    <li>La variable objetivo es de tipo categórica, y el modelo de regresión lineal requiere disponer de la variable dependiente en dominio numérico y consecutivo.</li>\n",
    "</ul>"
   ]
  },
  {
   "cell_type": "markdown",
   "id": "c1a5c99a",
   "metadata": {},
   "source": [
    "<h5 style=\"color:#0e535b; text-align: left\">3.1.1 Regresión Lineal Simple o Múltiple - visualización de variables</h5>"
   ]
  },
  {
   "cell_type": "code",
   "execution_count": 11,
   "id": "357f3468",
   "metadata": {},
   "outputs": [
    {
     "data": {
      "image/png": "[encoded data removed]",
      "text/plain": [
       "<Figure size 640x480 with 2 Axes>"
      ]
     },
     "metadata": {},
     "output_type": "display_data"
    }
   ],
   "source": [
    "viz = dataFrame_final[['pc_1','pc_2','Y']]\n",
    "viz.hist()\n",
    "plt.show()"
   ]
  },
  {
   "cell_type": "markdown",
   "id": "45f9a0f0",
   "metadata": {},
   "source": [
    "<p style=\"text-align:justify\">La visualización anterior nos permite comprobar dos puntos importantes:</p>\n",
    "<ul>\n",
    "    <li>Los mínimos y máximos de cada varuable se distribuyen muy ampliamente por el rango.</li>\n",
    "    <li>La mayor densidad de registros se encuentra en los extremos del rango, alejados del 0 en ambas variables.</li>\n",
    "</ul>"
   ]
  },
  {
   "cell_type": "code",
   "execution_count": 17,
   "id": "6182fffb",
   "metadata": {},
   "outputs": [
    {
     "data": {
      "image/png": "[encoded data removed]",
      "text/plain": [
       "<Figure size 640x480 with 1 Axes>"
      ]
     },
     "metadata": {},
     "output_type": "display_data"
    }
   ],
   "source": [
    "plt.scatter(dataFrame_final.pc_1, dataFrame_final.Y,  color='blue')\n",
    "plt.xlabel(\"PC 1\")\n",
    "plt.ylabel(\"Y\")\n",
    "plt.show()"
   ]
  },
  {
   "cell_type": "code",
   "execution_count": 16,
   "id": "3a72edf1",
   "metadata": {},
   "outputs": [
    {
     "data": {
      "image/png": "[encoded data removed]",
      "text/plain": [
       "<Figure size 640x480 with 1 Axes>"
      ]
     },
     "metadata": {},
     "output_type": "display_data"
    }
   ],
   "source": [
    "plt.scatter(dataFrame_final.pc_2, dataFrame_final.Y,  color='blue')\n",
    "plt.xlabel(\"PC 2\")\n",
    "plt.ylabel(\"Y\")\n",
    "plt.show()"
   ]
  },
  {
   "cell_type": "markdown",
   "id": "0fba7d39",
   "metadata": {},
   "source": [
    "<p style=\"text-align:justify\">En base ea las visualización anteriores se evidencia que la distribución de la variable dependiente no permitirá realizar un modelado de tipo Regresión Lineal Simple o Regresión Lineal Múltiple que permita predecir el comportamiento de pago de los deudores.</p>"
   ]
  },
  {
   "cell_type": "code",
   "execution_count": null,
   "id": "f29e4498",
   "metadata": {},
   "outputs": [],
   "source": []
  }
 ],
 "metadata": {
  "kernelspec": {
   "display_name": "Python 3 (ipykernel)",
   "language": "python",
   "name": "python3"
  },
  "language_info": {
   "codemirror_mode": {
    "name": "ipython",
    "version": 3
   },
   "file_extension": ".py",
   "mimetype": "text/x-python",
   "name": "python",
   "nbconvert_exporter": "python",
   "pygments_lexer": "ipython3",
   "version": "3.10.9"
  }
 },
 "nbformat": 4,
 "nbformat_minor": 5
}
